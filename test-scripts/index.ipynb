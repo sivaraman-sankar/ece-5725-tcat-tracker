{
 "cells": [
  {
   "cell_type": "code",
   "execution_count": 1,
   "metadata": {},
   "outputs": [],
   "source": [
    "import pandas as pd\n",
    "import os\n",
    "import datetime\n"
   ]
  },
  {
   "cell_type": "code",
   "execution_count": 3,
   "metadata": {},
   "outputs": [],
   "source": [
    "base_path = os.path.join('tcat-ny-us')\n",
    "trips_df = pd.read_csv(os.path.join(base_path, 'trips.txt'))\n",
    "stop_times_df = pd.read_csv(os.path.join(base_path, 'stop_times.txt'))\n",
    "stops_df = pd.read_csv(os.path.join(base_path, 'stops.txt'))\n"
   ]
  },
  {
   "cell_type": "code",
   "execution_count": 4,
   "metadata": {},
   "outputs": [
    {
     "name": "stdout",
     "output_type": "stream",
     "text": [
      "17:56:27\n",
      "5468    t3AE-b1F48-slC\n",
      "Name: trip_id, dtype: object\n"
     ]
    }
   ],
   "source": [
    "route_id = 30; \n",
    "relevant_trips = trips_df[trips_df['route_id'] == route_id]\n",
    "relevant_stop_times = stop_times_df[stop_times_df['trip_id'].isin(relevant_trips['trip_id'])]\n",
    "\n",
    "current_time = datetime.datetime.now()\n",
    "current_time_str = current_time.strftime('%H:%M:%S')\n",
    "print(current_time_str)\n",
    "# Get active trips for the current time\n",
    "active_trips = (relevant_stop_times[\n",
    "    (relevant_stop_times['departure_time'] <= current_time_str) & \n",
    "    (relevant_stop_times['arrival_time'] >= current_time_str)\n",
    "])\n",
    "\n",
    "# Get the first active trip_id\n",
    "active_trip_id = active_trips['trip_id']\n",
    "print(active_trip_id)\n"
   ]
  },
  {
   "cell_type": "code",
   "execution_count": 5,
   "metadata": {},
   "outputs": [
    {
     "ename": "ValueError",
     "evalue": "Can only compare identically-labeled Series objects",
     "output_type": "error",
     "traceback": [
      "\u001b[0;31m---------------------------------------------------------------------------\u001b[0m",
      "\u001b[0;31mValueError\u001b[0m                                Traceback (most recent call last)",
      "Cell \u001b[0;32mIn[5], line 3\u001b[0m\n\u001b[1;32m      1\u001b[0m relevant_stop_times \u001b[38;5;241m=\u001b[39m stop_times_df[stop_times_df[\u001b[38;5;124m'\u001b[39m\u001b[38;5;124mtrip_id\u001b[39m\u001b[38;5;124m'\u001b[39m]\u001b[38;5;241m.\u001b[39misin(relevant_trips[\u001b[38;5;124m'\u001b[39m\u001b[38;5;124mtrip_id\u001b[39m\u001b[38;5;124m'\u001b[39m])]\n\u001b[0;32m----> 3\u001b[0m ordered_stops \u001b[38;5;241m=\u001b[39m (relevant_stop_times[\u001b[43mrelevant_stop_times\u001b[49m\u001b[43m[\u001b[49m\u001b[38;5;124;43m'\u001b[39;49m\u001b[38;5;124;43mtrip_id\u001b[39;49m\u001b[38;5;124;43m'\u001b[39;49m\u001b[43m]\u001b[49m\u001b[43m \u001b[49m\u001b[38;5;241;43m==\u001b[39;49m\u001b[43m \u001b[49m\u001b[43mactive_trip_id\u001b[49m]\n\u001b[1;32m      4\u001b[0m                 \u001b[38;5;241m.\u001b[39mmerge(stops_df, on\u001b[38;5;241m=\u001b[39m\u001b[38;5;124m'\u001b[39m\u001b[38;5;124mstop_id\u001b[39m\u001b[38;5;124m'\u001b[39m)\n\u001b[1;32m      5\u001b[0m                 \u001b[38;5;241m.\u001b[39msort_values(\u001b[38;5;124m'\u001b[39m\u001b[38;5;124mstop_sequence\u001b[39m\u001b[38;5;124m'\u001b[39m)\n\u001b[1;32m      6\u001b[0m                 [[\u001b[38;5;124m'\u001b[39m\u001b[38;5;124mstop_name\u001b[39m\u001b[38;5;124m'\u001b[39m]]\n\u001b[1;32m      7\u001b[0m                 \u001b[38;5;241m.\u001b[39mdrop_duplicates())\n\u001b[1;32m      9\u001b[0m ordered_stops\u001b[38;5;241m.\u001b[39mshape\n",
      "File \u001b[0;32m~/.local/lib/python3.12/site-packages/pandas/core/ops/common.py:76\u001b[0m, in \u001b[0;36m_unpack_zerodim_and_defer.<locals>.new_method\u001b[0;34m(self, other)\u001b[0m\n\u001b[1;32m     72\u001b[0m             \u001b[38;5;28;01mreturn\u001b[39;00m \u001b[38;5;28mNotImplemented\u001b[39m\n\u001b[1;32m     74\u001b[0m other \u001b[38;5;241m=\u001b[39m item_from_zerodim(other)\n\u001b[0;32m---> 76\u001b[0m \u001b[38;5;28;01mreturn\u001b[39;00m \u001b[43mmethod\u001b[49m\u001b[43m(\u001b[49m\u001b[38;5;28;43mself\u001b[39;49m\u001b[43m,\u001b[49m\u001b[43m \u001b[49m\u001b[43mother\u001b[49m\u001b[43m)\u001b[49m\n",
      "File \u001b[0;32m~/.local/lib/python3.12/site-packages/pandas/core/arraylike.py:40\u001b[0m, in \u001b[0;36mOpsMixin.__eq__\u001b[0;34m(self, other)\u001b[0m\n\u001b[1;32m     38\u001b[0m \u001b[38;5;129m@unpack_zerodim_and_defer\u001b[39m(\u001b[38;5;124m\"\u001b[39m\u001b[38;5;124m__eq__\u001b[39m\u001b[38;5;124m\"\u001b[39m)\n\u001b[1;32m     39\u001b[0m \u001b[38;5;28;01mdef\u001b[39;00m \u001b[38;5;21m__eq__\u001b[39m(\u001b[38;5;28mself\u001b[39m, other):\n\u001b[0;32m---> 40\u001b[0m     \u001b[38;5;28;01mreturn\u001b[39;00m \u001b[38;5;28;43mself\u001b[39;49m\u001b[38;5;241;43m.\u001b[39;49m\u001b[43m_cmp_method\u001b[49m\u001b[43m(\u001b[49m\u001b[43mother\u001b[49m\u001b[43m,\u001b[49m\u001b[43m \u001b[49m\u001b[43moperator\u001b[49m\u001b[38;5;241;43m.\u001b[39;49m\u001b[43meq\u001b[49m\u001b[43m)\u001b[49m\n",
      "File \u001b[0;32m~/.local/lib/python3.12/site-packages/pandas/core/series.py:6114\u001b[0m, in \u001b[0;36mSeries._cmp_method\u001b[0;34m(self, other, op)\u001b[0m\n\u001b[1;32m   6111\u001b[0m res_name \u001b[38;5;241m=\u001b[39m ops\u001b[38;5;241m.\u001b[39mget_op_result_name(\u001b[38;5;28mself\u001b[39m, other)\n\u001b[1;32m   6113\u001b[0m \u001b[38;5;28;01mif\u001b[39;00m \u001b[38;5;28misinstance\u001b[39m(other, Series) \u001b[38;5;129;01mand\u001b[39;00m \u001b[38;5;129;01mnot\u001b[39;00m \u001b[38;5;28mself\u001b[39m\u001b[38;5;241m.\u001b[39m_indexed_same(other):\n\u001b[0;32m-> 6114\u001b[0m     \u001b[38;5;28;01mraise\u001b[39;00m \u001b[38;5;167;01mValueError\u001b[39;00m(\u001b[38;5;124m\"\u001b[39m\u001b[38;5;124mCan only compare identically-labeled Series objects\u001b[39m\u001b[38;5;124m\"\u001b[39m)\n\u001b[1;32m   6116\u001b[0m lvalues \u001b[38;5;241m=\u001b[39m \u001b[38;5;28mself\u001b[39m\u001b[38;5;241m.\u001b[39m_values\n\u001b[1;32m   6117\u001b[0m rvalues \u001b[38;5;241m=\u001b[39m extract_array(other, extract_numpy\u001b[38;5;241m=\u001b[39m\u001b[38;5;28;01mTrue\u001b[39;00m, extract_range\u001b[38;5;241m=\u001b[39m\u001b[38;5;28;01mTrue\u001b[39;00m)\n",
      "\u001b[0;31mValueError\u001b[0m: Can only compare identically-labeled Series objects"
     ]
    }
   ],
   "source": [
    "relevant_stop_times = stop_times_df[stop_times_df['trip_id'].isin(relevant_trips['trip_id'])]\n",
    "\n",
    "ordered_stops = (relevant_stop_times[relevant_stop_times['trip_id'] == active_trip_id]\n",
    "                .merge(stops_df, on='stop_id')\n",
    "                .sort_values('stop_sequence')\n",
    "                [['stop_name']]\n",
    "                .drop_duplicates())\n",
    "\n",
    "ordered_stops.shape"
   ]
  },
  {
   "cell_type": "code",
   "execution_count": 23,
   "metadata": {},
   "outputs": [],
   "source": [
    "output_file = os.path.join('tcat-ny-us', f'route_v2_{route_id}.txt')\n",
    "ordered_stops['stop_name'].to_csv(output_file, index=False, header=False, quoting=None)"
   ]
  },
  {
   "cell_type": "code",
   "execution_count": null,
   "metadata": {},
   "outputs": [],
   "source": [
    "relevant_stop_times = stop_times_df[stop_times_df['trip_id'].isin(relevant_trips['trip_id'])]\n",
    "\n",
    "stops_df.head()\n",
    "\n",
    "# ordered_stops = (relevant_stop_times\n",
    "#                     .merge(stops_df, on='stop_id')\n",
    "#                     .sort_values('stop_sequence')\n",
    "#                     [['stop_name']]\n",
    "#                     .drop_duplicates())\n",
    "# output_file = os.path.join('tcat-ny-us', f'route_{route_id}.txt')\n",
    "# ordered_stops['stop_name'].to_csv(output_file, index=False, header=False, quoting=None)\n",
    "\n"
   ]
  },
  {
   "cell_type": "code",
   "execution_count": null,
   "metadata": {},
   "outputs": [],
   "source": [
    "def get_ordered_stops_for_route(route_id):\n",
    "    # Filter trips for the specific route\n",
    "    relevant_trips = trips_df[trips_df['route_id'] == route_id]\n",
    "    \n",
    "    # Get stop times for those trips\n",
    "    relevant_stop_times = stop_times_df[stop_times_df['trip_id'].isin(relevant_trips['trip_id'])]\n",
    "    \n",
    "    # Join with stops and order by sequence\n",
    "    ordered_stops = (relevant_stop_times\n",
    "                    .merge(stops_df, on='stop_id')\n",
    "                    .sort_values('stop_sequence')\n",
    "                    [['stop_id', 'stop_name', 'stop_sequence']]\n",
    "                    .drop_duplicates())\n",
    "    \n",
    "    return ordered_stops.to_dict('records')"
   ]
  },
  {
   "cell_type": "code",
   "execution_count": 9,
   "metadata": {},
   "outputs": [
    {
     "name": "stdout",
     "output_type": "stream",
     "text": [
      "Ithaca Commons - Seneca St\n",
      "Albany at Salvation Army\n",
      "Ithaca Commons - Green St\n",
      "State/MLK @ Stewart\n",
      "State/MLK @ Quarry\n",
      "College @ Mitchell\n",
      "Collegetown Crossing\n",
      "College @ Oak\n",
      "Carpenter Hall\n",
      "Baker Flagpole  - Slope Side\n",
      "Milstein Hall\n",
      "Thurston at Balch Hall\n",
      "Jessup @ Triphammer\n",
      "Robert Purcell Community Center\n",
      "Jessup @ Pleasant Grove\n",
      "Pleasant Grove @ Hanshaw\n",
      "Triphammer @ Texas\n",
      "Triphammer @ Winthrop\n",
      "Triphammer at Kendal\n",
      "Triphammer Marketplace\n",
      "Cayuga Mall\n",
      "Graham@Butler\n",
      "The Shops at Ithaca Mall\n"
     ]
    }
   ],
   "source": [
    "def get_stops_by_trip(trip_id):\n",
    "    try:\n",
    "        # Get stop times for the specific trip\n",
    "        trip_stop_times = stop_times_df[stop_times_df['trip_id'].astype(str) == str(trip_id)]\n",
    "        \n",
    "        # Get ordered stops by joining with stops table\n",
    "        ordered_stops = (trip_stop_times\n",
    "                        .merge(stops_df, on='stop_id')\n",
    "                        .sort_values('stop_sequence')\n",
    "                        [['stop_name']]\n",
    "                        .drop_duplicates())\n",
    "        \n",
    "        if ordered_stops.empty:\n",
    "            print(f\"No stops found for trip_id: {trip_id}\")\n",
    "            return []\n",
    "            \n",
    "        d = ordered_stops.to_dict('records')\n",
    "        for e in d:\n",
    "            print(e['stop_name'].strip())\n",
    "        \n",
    "    except Exception as e:\n",
    "        print(f\"Error getting stops for trip_id {trip_id}: {str(e)}\")\n",
    "        return []\n",
    "\n",
    "\n",
    "get_stops_by_trip('t730-b1B67-slD')"
   ]
  },
  {
   "cell_type": "code",
   "execution_count": null,
   "metadata": {},
   "outputs": [],
   "source": []
  }
 ],
 "metadata": {
  "kernelspec": {
   "display_name": "Python 3",
   "language": "python",
   "name": "python3"
  },
  "language_info": {
   "codemirror_mode": {
    "name": "ipython",
    "version": 3
   },
   "file_extension": ".py",
   "mimetype": "text/x-python",
   "name": "python",
   "nbconvert_exporter": "python",
   "pygments_lexer": "ipython3",
   "version": "3.12.1"
  }
 },
 "nbformat": 4,
 "nbformat_minor": 2
}
